{
 "cells": [
  {
   "cell_type": "markdown",
   "id": "632c5912",
   "metadata": {},
   "source": [
    "### Desafio\n",
    "\n",
    "Você trabalha em uma empresa que tem 18 lojas espalhadas por todo o Brasil e divididas em 5 estados diferentes:\n",
    "- RJ\n",
    "- SP\n",
    "- MG\n",
    "- GO\n",
    "- AM\n",
    "\n",
    "Todo trimestre, são calculados os indicadores de cada funcionário de cada loja e esses indicadores são armazenados em um arquivo em Excel.\n",
    "\n",
    "Cada estado tem 1 Gerente Geral responsável por todas as lojas daqueles estados.\n",
    "\n",
    "Pediram para você enviar para cada Gerente Geral todas as bases de indicadores correspondentes às lojas que ele é responsável, porque a equipe deles precisa desses indicadores.\n",
    "\n",
    "Obs: Não vamos enviar por e-mail porque ainda não aprendemos a fazer isso, mas vamos deixar todos os arquivos em uma pasta única para cada gerente, ou seja, para cada estado.\n",
    "\n",
    "Então o seu desafio é separar todos os arquivos de forma que cada arquivo esteja na pasta do estado correspondente aquele arquivo.\n",
    "\n",
    "Obs: Para pegar o nome de um arquivo como um texto no pathlib, você pode usar Path.name ou arquivo.name:<br>\n",
    "caminho = Path('Pasta/Arquivo.csv')<br>\n",
    "print(caminho.name) -> resposta: 'Arquivo.csv'"
   ]
  },
  {
   "cell_type": "code",
   "execution_count": 2,
   "id": "6d70e55d",
   "metadata": {},
   "outputs": [
    {
     "ename": "FileExistsError",
     "evalue": "[WinError 183] Não é possível criar um arquivo já existente: 'Arquivos_lojas\\\\SP'",
     "output_type": "error",
     "traceback": [
      "\u001b[1;31m---------------------------------------------------------------------------\u001b[0m",
      "\u001b[1;31mFileExistsError\u001b[0m                           Traceback (most recent call last)",
      "Input \u001b[1;32mIn [2]\u001b[0m, in \u001b[0;36m<cell line: 6>\u001b[1;34m()\u001b[0m\n\u001b[0;32m      4\u001b[0m estados \u001b[38;5;241m=\u001b[39m [\u001b[38;5;124m'\u001b[39m\u001b[38;5;124mSP\u001b[39m\u001b[38;5;124m'\u001b[39m,\u001b[38;5;124m'\u001b[39m\u001b[38;5;124mRJ\u001b[39m\u001b[38;5;124m'\u001b[39m, \u001b[38;5;124m'\u001b[39m\u001b[38;5;124mMG\u001b[39m\u001b[38;5;124m'\u001b[39m, \u001b[38;5;124m'\u001b[39m\u001b[38;5;124mGO\u001b[39m\u001b[38;5;124m'\u001b[39m, \u001b[38;5;124m'\u001b[39m\u001b[38;5;124mAM\u001b[39m\u001b[38;5;124m'\u001b[39m]\n\u001b[0;32m      6\u001b[0m \u001b[38;5;28;01mfor\u001b[39;00m estado \u001b[38;5;129;01min\u001b[39;00m estados:\n\u001b[1;32m----> 7\u001b[0m     \u001b[43mPath\u001b[49m\u001b[43m(\u001b[49m\u001b[38;5;124;43m'\u001b[39;49m\u001b[38;5;124;43mArquivos_lojas/\u001b[39;49m\u001b[38;5;132;43;01m{}\u001b[39;49;00m\u001b[38;5;124;43m'\u001b[39;49m\u001b[38;5;241;43m.\u001b[39;49m\u001b[43mformat\u001b[49m\u001b[43m(\u001b[49m\u001b[43mestado\u001b[49m\u001b[43m)\u001b[49m\u001b[43m)\u001b[49m\u001b[38;5;241;43m.\u001b[39;49m\u001b[43mmkdir\u001b[49m\u001b[43m(\u001b[49m\u001b[43m)\u001b[49m\n",
      "File \u001b[1;32m~\\anaconda3\\lib\\pathlib.py:1323\u001b[0m, in \u001b[0;36mPath.mkdir\u001b[1;34m(self, mode, parents, exist_ok)\u001b[0m\n\u001b[0;32m   1319\u001b[0m \u001b[38;5;124;03m\"\"\"\u001b[39;00m\n\u001b[0;32m   1320\u001b[0m \u001b[38;5;124;03mCreate a new directory at this given path.\u001b[39;00m\n\u001b[0;32m   1321\u001b[0m \u001b[38;5;124;03m\"\"\"\u001b[39;00m\n\u001b[0;32m   1322\u001b[0m \u001b[38;5;28;01mtry\u001b[39;00m:\n\u001b[1;32m-> 1323\u001b[0m     \u001b[38;5;28;43mself\u001b[39;49m\u001b[38;5;241;43m.\u001b[39;49m\u001b[43m_accessor\u001b[49m\u001b[38;5;241;43m.\u001b[39;49m\u001b[43mmkdir\u001b[49m\u001b[43m(\u001b[49m\u001b[38;5;28;43mself\u001b[39;49m\u001b[43m,\u001b[49m\u001b[43m \u001b[49m\u001b[43mmode\u001b[49m\u001b[43m)\u001b[49m\n\u001b[0;32m   1324\u001b[0m \u001b[38;5;28;01mexcept\u001b[39;00m \u001b[38;5;167;01mFileNotFoundError\u001b[39;00m:\n\u001b[0;32m   1325\u001b[0m     \u001b[38;5;28;01mif\u001b[39;00m \u001b[38;5;129;01mnot\u001b[39;00m parents \u001b[38;5;129;01mor\u001b[39;00m \u001b[38;5;28mself\u001b[39m\u001b[38;5;241m.\u001b[39mparent \u001b[38;5;241m==\u001b[39m \u001b[38;5;28mself\u001b[39m:\n",
      "\u001b[1;31mFileExistsError\u001b[0m: [WinError 183] Não é possível criar um arquivo já existente: 'Arquivos_lojas\\\\SP'"
     ]
    }
   ],
   "source": [
    "from pathlib import Path\n",
    "import shutil\n",
    "# criando a lista para percorre-la e separar os arquivos de cada estado\n",
    "estados = ['SP','RJ', 'MG', 'GO', 'AM']\n",
    "\n",
    "for estado in estados:\n",
    "    Path('Arquivos_lojas/{}'.format(estado)).mkdir()\n",
    "    "
   ]
  },
  {
   "cell_type": "code",
   "execution_count": 3,
   "id": "02ca0cb0",
   "metadata": {},
   "outputs": [],
   "source": [
    "caminho = Path('Arquivos_Lojas/')\n",
    "arquivos = caminho.iterdir()\n",
    "for arquivo in arquivos:\n",
    "    nome_arquivo = arquivo.name\n",
    "    if nome_arquivo[-3:] == 'csv':\n",
    "        estado = nome_arquivo[-6:-4]\n",
    "        local_final = caminho / Path('{}/{}'.format(estado, nome_arquivo))\n",
    "        shutil.move(arquivo, local_final)\n"
   ]
  }
 ],
 "metadata": {
  "kernelspec": {
   "display_name": "Python 3 (ipykernel)",
   "language": "python",
   "name": "python3"
  },
  "language_info": {
   "codemirror_mode": {
    "name": "ipython",
    "version": 3
   },
   "file_extension": ".py",
   "mimetype": "text/x-python",
   "name": "python",
   "nbconvert_exporter": "python",
   "pygments_lexer": "ipython3",
   "version": "3.9.12"
  }
 },
 "nbformat": 4,
 "nbformat_minor": 5
}
